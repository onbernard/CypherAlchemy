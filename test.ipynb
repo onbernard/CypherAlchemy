{
 "cells": [
  {
   "cell_type": "code",
   "execution_count": 74,
   "metadata": {},
   "outputs": [],
   "source": [
    "from pydantic import BaseModel\n",
    "from typing import (\n",
    "    Dict,\n",
    "    Optional,\n",
    "    List\n",
    ")\n",
    "from uuid import uuid4\n",
    "import random\n",
    "import string\n",
    "import time\n",
    "import base64"
   ]
  },
  {
   "cell_type": "code",
   "execution_count": 25,
   "metadata": {},
   "outputs": [
    {
     "data": {
      "text/plain": [
       "'6425de85'"
      ]
     },
     "execution_count": 25,
     "metadata": {},
     "output_type": "execute_result"
    }
   ],
   "source": [
    "int(time.time()).to_bytes(4, 'big').hex()"
   ]
  },
  {
   "cell_type": "code",
   "execution_count": null,
   "metadata": {},
   "outputs": [],
   "source": [
    "bytearray(int(time.time()))"
   ]
  },
  {
   "cell_type": "code",
   "execution_count": 26,
   "metadata": {},
   "outputs": [],
   "source": [
    "def random_str(length: int = 8) -> str:\n",
    "    letters = string.ascii_lowercase\n",
    "    return ''.join(random.choice(letters) for i in range(length))"
   ]
  },
  {
   "cell_type": "code",
   "execution_count": 89,
   "metadata": {},
   "outputs": [],
   "source": [
    "class Node(BaseModel):\n",
    "    @property\n",
    "    def label(self) -> str:\n",
    "        return self.__class__.__name__\n",
    "\n",
    "    @property\n",
    "    def properties(self) -> Dict:\n",
    "        return self.dict()\n",
    "\n",
    "    @classmethod\n",
    "    def property_keys(cls) -> List:\n",
    "        return list(cls.schema()[\"properties\"].keys())\n",
    "\n",
    "    @classmethod\n",
    "    def match(cls, **properties):\n",
    "        if not all(k in cls.property_keys() for k in properties.keys()):\n",
    "            raise ValueError(\"Properties in match statement must match class properties\")\n",
    "        outp = f\"(n{random_str()}:{cls.__name__}\"\n",
    "        if properties:\n",
    "            outp += \" {\" + \", \".join(f\"{k}: {v}\" for k,v in properties.items()) + \"}\"\n",
    "        outp += \")\"\n",
    "        return outp"
   ]
  },
  {
   "cell_type": "code",
   "execution_count": 112,
   "metadata": {},
   "outputs": [],
   "source": [
    "class Edge(BaseModel):\n",
    "    nfrom: Node\n",
    "    nto: Node\n",
    "\n",
    "    @property\n",
    "    def type(self) -> str:\n",
    "        return self.__class__.__name__\n",
    "\n",
    "    @property\n",
    "    def properties(self):\n",
    "        return self.dict(exclude={\"nfrom\", \"nto\"})\n",
    "\n",
    "    @classmethod\n",
    "    def property_keys(cls) -> List:\n",
    "        return list(k for k in cls.schema()[\"properties\"].keys() if k not in (\"nfrom\", \"nto\"))\n",
    "\n",
    "    @classmethod\n",
    "    def match(cls, **properties):\n",
    "        if not all(k in cls.property_keys() for k in properties.keys()):\n",
    "            raise ValueError(\"Properties in match statement must match class properties\")\n",
    "        outp = f\"[r{random_str()}:{cls.__name__}\"\n",
    "        if properties:\n",
    "            outp += \" {\" + \", \".join(f\"{k}: {v}\" for k,v in properties.items()) + \"}\"\n",
    "        outp += \"]\"\n",
    "        return outp"
   ]
  },
  {
   "cell_type": "code",
   "execution_count": 115,
   "metadata": {},
   "outputs": [
    {
     "data": {
      "text/plain": [
       "'[rbtuovxck:Married {date: 43}]'"
      ]
     },
     "execution_count": 115,
     "metadata": {},
     "output_type": "execute_result"
    }
   ],
   "source": [
    "class Person(Node):\n",
    "    age: int = 69\n",
    "\n",
    "class Married(Edge):\n",
    "    date: float\n",
    "    nfrom: Person\n",
    "    nto: Person\n",
    "\n",
    "p1 = Person()\n",
    "p2 = Person()\n",
    "m = Married(nfrom=p1, nto=p2, date=.5)\n",
    "Married.match(date=43)"
   ]
  },
  {
   "cell_type": "code",
   "execution_count": 40,
   "metadata": {},
   "outputs": [
    {
     "data": {
      "text/plain": [
       "'(ndyzapufn:fedsqf {lol: 1, uwu: uwu})'"
      ]
     },
     "execution_count": 40,
     "metadata": {},
     "output_type": "execute_result"
    }
   ],
   "source": [
    "n = Node(\"fedsqf\", lol=1, uwu=\"uwu\")\n",
    "n.query_str(\"\")"
   ]
  },
  {
   "cell_type": "code",
   "execution_count": 41,
   "metadata": {},
   "outputs": [
    {
     "data": {
      "text/plain": [
       "'[rrvrsubwxg:fsdq {lol: 1, uwu: uwu}]'"
      ]
     },
     "execution_count": 41,
     "metadata": {},
     "output_type": "execute_result"
    }
   ],
   "source": [
    "r = Relationship(\"fsdq\", lol=1, uwu=\"uwu\")\n",
    "r.query_str()"
   ]
  }
 ],
 "metadata": {
  "kernelspec": {
   "display_name": "cypher",
   "language": "python",
   "name": "python3"
  },
  "language_info": {
   "codemirror_mode": {
    "name": "ipython",
    "version": 3
   },
   "file_extension": ".py",
   "mimetype": "text/x-python",
   "name": "python",
   "nbconvert_exporter": "python",
   "pygments_lexer": "ipython3",
   "version": "3.9.16"
  },
  "orig_nbformat": 4
 },
 "nbformat": 4,
 "nbformat_minor": 2
}
